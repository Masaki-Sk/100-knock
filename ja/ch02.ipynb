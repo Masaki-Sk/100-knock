{
  "cells": [
    {
      "cell_type": "markdown",
      "id": "38daedde-589c-4cac-bf43-2b13485898cb",
      "metadata": {
        "editable": true,
        "id": "38daedde-589c-4cac-bf43-2b13485898cb",
        "tags": []
      },
      "source": [
        "# 第2章: UNIXコマンド\n",
        "\n",
        "[popular-names.txt](/data/popular-names.txt)は、アメリカで生まれた赤ちゃんの「名前」「性別」「人数」「年」をタブ区切り形式で格納したファイルである。以下の処理を行うプログラムを作成し、[popular-names.txt](/data/popular-names.txt)を入力ファイルとして実行せよ。さらに、同様の処理をUNIXコマンドでも実行し、プログラムの実行結果を確認せよ。"
      ]
    },
    {
      "cell_type": "markdown",
      "id": "d0cd8b46-ec72-459e-8cd4-285ac3601172",
      "metadata": {
        "editable": true,
        "id": "d0cd8b46-ec72-459e-8cd4-285ac3601172",
        "tags": []
      },
      "source": [
        "## 10. 行数のカウント\n",
        "ファイルの行数をカウントせよ。確認にはwcコマンドを用いよ。"
      ]
    },
    {
      "cell_type": "code",
      "source": [
        "!wc -l popular-names.txt"
      ],
      "metadata": {
        "id": "1FZAfrlc4sFR",
        "outputId": "add64972-d1aa-4196-8ab6-b1b16609ba11",
        "colab": {
          "base_uri": "https://localhost:8080/"
        }
      },
      "id": "1FZAfrlc4sFR",
      "execution_count": 48,
      "outputs": [
        {
          "output_type": "stream",
          "name": "stdout",
          "text": [
            "2780 popular-names.txt\n"
          ]
        }
      ]
    },
    {
      "cell_type": "markdown",
      "id": "275b8ac0-17a1-4df2-9287-efae1f0c6740",
      "metadata": {
        "id": "275b8ac0-17a1-4df2-9287-efae1f0c6740"
      },
      "source": [
        "## 11. 先頭からN行を出力\n",
        "ファイルの先頭N行だけを表示せよ。例えば、N=10として先頭10行を表示せよ。確認にはheadコマンドを用いよ。"
      ]
    },
    {
      "cell_type": "code",
      "source": [
        "!head -n 10 popular-names.txt"
      ],
      "metadata": {
        "id": "rO4an-Vn7Fc0",
        "outputId": "2f2a26ac-3a73-4f27-a43c-2798d60dd384",
        "colab": {
          "base_uri": "https://localhost:8080/"
        }
      },
      "id": "rO4an-Vn7Fc0",
      "execution_count": 49,
      "outputs": [
        {
          "output_type": "stream",
          "name": "stdout",
          "text": [
            "Mary\tF\t7065\t1880\r\n",
            "Anna\tF\t2604\t1880\r\n",
            "Emma\tF\t2003\t1880\r\n",
            "Elizabeth\tF\t1939\t1880\r\n",
            "Minnie\tF\t1746\t1880\r\n",
            "Margaret\tF\t1578\t1880\r\n",
            "Ida\tF\t1472\t1880\r\n",
            "Alice\tF\t1414\t1880\r\n",
            "Bertha\tF\t1320\t1880\r\n",
            "Sarah\tF\t1288\t1880\r\n"
          ]
        }
      ]
    },
    {
      "cell_type": "markdown",
      "id": "b7606710-56c9-4aea-90c8-48e57c3c73df",
      "metadata": {
        "id": "b7606710-56c9-4aea-90c8-48e57c3c73df"
      },
      "source": [
        "## 12. 末尾のN行を出力\n",
        "ファイルの末尾N行だけを表示せよ。例えば、N=10として末尾10行を表示せよ。確認にはtailコマンドを用いよ。"
      ]
    },
    {
      "cell_type": "code",
      "source": [
        "!tail -n 10 popular-names.txt"
      ],
      "metadata": {
        "id": "IxC57GoG7uO8",
        "outputId": "7bab6768-53e5-4e42-a4d4-bf8e52fb9569",
        "colab": {
          "base_uri": "https://localhost:8080/"
        }
      },
      "id": "IxC57GoG7uO8",
      "execution_count": 50,
      "outputs": [
        {
          "output_type": "stream",
          "name": "stdout",
          "text": [
            "Liam\tM\t19837\t2018\r\n",
            "Noah\tM\t18267\t2018\r\n",
            "William\tM\t14516\t2018\r\n",
            "James\tM\t13525\t2018\r\n",
            "Oliver\tM\t13389\t2018\r\n",
            "Benjamin\tM\t13381\t2018\r\n",
            "Elijah\tM\t12886\t2018\r\n",
            "Lucas\tM\t12585\t2018\r\n",
            "Mason\tM\t12435\t2018\r\n",
            "Logan\tM\t12352\t2018\r\n"
          ]
        }
      ]
    },
    {
      "cell_type": "markdown",
      "id": "6ce5a4f0-b73a-43a0-be8c-c78142882e5c",
      "metadata": {
        "id": "6ce5a4f0-b73a-43a0-be8c-c78142882e5c"
      },
      "source": [
        "## 13. タブをスペースに置換\n",
        "ファイルの先頭10行に対して、タブ1文字につきスペース1文字に置換して出力せよ。確認にはsedコマンド、trコマンド、もしくはexpandコマンドなどを用いよ。"
      ]
    },
    {
      "cell_type": "code",
      "source": [
        "!sed '1,10s/\\t/ /g' popular-names.txt | head -n 12"
      ],
      "metadata": {
        "id": "m0Mn8Fox7zb0",
        "outputId": "e26e81fa-af49-4767-8f8b-9a0cf79d3549",
        "colab": {
          "base_uri": "https://localhost:8080/"
        }
      },
      "id": "m0Mn8Fox7zb0",
      "execution_count": 51,
      "outputs": [
        {
          "output_type": "stream",
          "name": "stdout",
          "text": [
            "Mary F 7065 1880\r\n",
            "Anna F 2604 1880\r\n",
            "Emma F 2003 1880\r\n",
            "Elizabeth F 1939 1880\r\n",
            "Minnie F 1746 1880\r\n",
            "Margaret F 1578 1880\r\n",
            "Ida F 1472 1880\r\n",
            "Alice F 1414 1880\r\n",
            "Bertha F 1320 1880\r\n",
            "Sarah F 1288 1880\r\n",
            "John\tM\t9655\t1880\r\n",
            "William\tM\t9532\t1880\r\n"
          ]
        }
      ]
    },
    {
      "cell_type": "markdown",
      "id": "eaef4ffb-c436-41ab-a649-e4d5fd385a76",
      "metadata": {
        "id": "eaef4ffb-c436-41ab-a649-e4d5fd385a76"
      },
      "source": [
        "## 14. 1列目を出力\n",
        "ファイルの先頭10行に対して、各行の1列目だけを抜き出して表示せよ。確認にはcutコマンドなどを用いよ。"
      ]
    },
    {
      "cell_type": "code",
      "source": [
        "!cut -f 1 popular-names.txt | head -n 10"
      ],
      "metadata": {
        "id": "dKYGmKWf-lBE",
        "outputId": "90550fa8-1413-4a7c-e8c3-0b3172b963ff",
        "colab": {
          "base_uri": "https://localhost:8080/"
        }
      },
      "id": "dKYGmKWf-lBE",
      "execution_count": 52,
      "outputs": [
        {
          "output_type": "stream",
          "name": "stdout",
          "text": [
            "Mary\n",
            "Anna\n",
            "Emma\n",
            "Elizabeth\n",
            "Minnie\n",
            "Margaret\n",
            "Ida\n",
            "Alice\n",
            "Bertha\n",
            "Sarah\n"
          ]
        }
      ]
    },
    {
      "cell_type": "markdown",
      "id": "00c76a76-98bc-4ccc-918d-459b8d7954cf",
      "metadata": {
        "id": "00c76a76-98bc-4ccc-918d-459b8d7954cf"
      },
      "source": [
        "## 15. ファイルをN分割する\n",
        "ファイルを行単位でN分割し、別のファイルに格納せよ。例えば、N=10としてファイルを10分割せよ。同様の処理をsplitコマンドで実現せよ。"
      ]
    },
    {
      "cell_type": "code",
      "source": [
        "!split -l 10 -d --suffix-length=3 --additional-suffix=.txt popular-names.txt split_"
      ],
      "metadata": {
        "id": "9bS729Po_39E"
      },
      "id": "9bS729Po_39E",
      "execution_count": 53,
      "outputs": []
    },
    {
      "cell_type": "markdown",
      "id": "bc88859b-8a4d-4028-9aa4-684ab5ad9797",
      "metadata": {
        "id": "bc88859b-8a4d-4028-9aa4-684ab5ad9797"
      },
      "source": [
        "## 16. ランダムに各行を並び替える\n",
        "ファイルを行単位でランダムに並び替えよ（注意: 各行の内容は変更せずに並び替えよ）。同様の処理をshufコマンドで実現せよ。"
      ]
    },
    {
      "cell_type": "code",
      "source": [
        "!shuf popular-names.txt | head -n 10"
      ],
      "metadata": {
        "id": "jpw_BogaDEot",
        "outputId": "b8f03e22-1a97-4bdb-e4e2-9e5e7dce5ebb",
        "colab": {
          "base_uri": "https://localhost:8080/"
        }
      },
      "id": "jpw_BogaDEot",
      "execution_count": 54,
      "outputs": [
        {
          "output_type": "stream",
          "name": "stdout",
          "text": [
            "Edward\tM\t20089\t1925\r\n",
            "John\tM\t82829\t1948\r\n",
            "Patricia\tF\t25371\t1963\r\n",
            "Anna\tF\t9687\t1913\r\n",
            "Joan\tF\t18223\t1935\r\n",
            "Ashley\tF\t19873\t1998\r\n",
            "Frances\tF\t16131\t1918\r\n",
            "Richard\tM\t45642\t1944\r\n",
            "Barbara\tF\t48792\t1947\r\n",
            "Jacob\tM\t15949\t2015\r\n"
          ]
        }
      ]
    },
    {
      "cell_type": "markdown",
      "id": "1041d23d-1a44-49c3-b95a-223fa9e3d3ae",
      "metadata": {
        "id": "1041d23d-1a44-49c3-b95a-223fa9e3d3ae"
      },
      "source": [
        "## 17. １列目の文字列の異なり\n",
        "1列目の文字列の異なり（文字列の種類）を求めよ。確認にはcut, sort, uniqコマンドを用いよ。"
      ]
    },
    {
      "cell_type": "code",
      "source": [
        "!cut -f 1 popular-names.txt | sort | uniq -c | sort -nr | head -n 10"
      ],
      "metadata": {
        "id": "qF2wjKaqD9r1",
        "outputId": "1c4a9bf0-d35b-4fa2-a988-97b1e0b5ac6c",
        "colab": {
          "base_uri": "https://localhost:8080/"
        }
      },
      "id": "qF2wjKaqD9r1",
      "execution_count": 55,
      "outputs": [
        {
          "output_type": "stream",
          "name": "stdout",
          "text": [
            "    118 James\n",
            "    111 William\n",
            "    108 Robert\n",
            "    108 John\n",
            "     92 Mary\n",
            "     75 Charles\n",
            "     74 Michael\n",
            "     73 Elizabeth\n",
            "     70 Joseph\n",
            "     60 Margaret\n"
          ]
        }
      ]
    },
    {
      "cell_type": "markdown",
      "id": "3f5363e2-d751-40cc-958c-86d8b185089d",
      "metadata": {
        "id": "3f5363e2-d751-40cc-958c-86d8b185089d"
      },
      "source": [
        "## 18. 各行の1列目の文字列の出現頻度を求め、出現頻度の高い順に並べる\n",
        "1列目の文字列の出現頻度を求め、出現頻度と名前を出現頻度の多い順に並べて表示せよ。確認にはcut, uniq, sortコマンドを用いよ。"
      ]
    },
    {
      "cell_type": "code",
      "source": [
        "!cut -f 1 popular-names.txt | sort | uniq -c | wc -l"
      ],
      "metadata": {
        "id": "F7rHy2-5HWhk",
        "outputId": "e30b9b55-bf91-4597-d886-a75aed2d4ffd",
        "colab": {
          "base_uri": "https://localhost:8080/"
        }
      },
      "id": "F7rHy2-5HWhk",
      "execution_count": 58,
      "outputs": [
        {
          "output_type": "stream",
          "name": "stdout",
          "text": [
            "136\n",
            "136\n"
          ]
        }
      ]
    },
    {
      "cell_type": "markdown",
      "id": "5ea1c928-6748-4f02-9e65-2110655b30d8",
      "metadata": {
        "id": "5ea1c928-6748-4f02-9e65-2110655b30d8"
      },
      "source": [
        "## 19. 3列目の数値の降順に各行を並び替える\n",
        "3列目の数値の逆順でファイルの各行を整列せよ（注意: 各行の内容は変更せずに並び替えよ）。同様の処理をsortコマンドで実現せよ。"
      ]
    },
    {
      "cell_type": "code",
      "source": [
        "!sort -k 3 -n -r popular-names.txt | head -n 10"
      ],
      "metadata": {
        "id": "AaIaKGlrHXTz",
        "outputId": "9f3e93a0-fb56-4761-a90e-9568e0496875",
        "colab": {
          "base_uri": "https://localhost:8080/"
        }
      },
      "id": "AaIaKGlrHXTz",
      "execution_count": 59,
      "outputs": [
        {
          "output_type": "stream",
          "name": "stdout",
          "text": [
            "Linda\tF\t99689\t1947\r\n",
            "Linda\tF\t96211\t1948\r\n",
            "James\tM\t94757\t1947\r\n",
            "Michael\tM\t92704\t1957\r\n",
            "Robert\tM\t91640\t1947\r\n",
            "Linda\tF\t91016\t1949\r\n",
            "Michael\tM\t90656\t1956\r\n",
            "Michael\tM\t90517\t1958\r\n",
            "James\tM\t88584\t1948\r\n",
            "Michael\tM\t88528\t1954\n",
            "Linda\tF\t99689\t1947\n",
            "Linda\tF\t96211\t1948\n",
            "James\tM\t94757\t1947\n",
            "Michael\tM\t92704\t1957\n",
            "Robert\tM\t91640\t1947\n",
            "Linda\tF\t91016\t1949\n",
            "Michael\tM\t90656\t1956\n",
            "Michael\tM\t90517\t1958\n",
            "James\tM\t88584\t1948\n",
            "Michael\tM\t88528\t1954\n"
          ]
        }
      ]
    }
  ],
  "metadata": {
    "colab": {
      "provenance": []
    },
    "kernelspec": {
      "display_name": "Python 3 (ipykernel)",
      "language": "python",
      "name": "python3"
    },
    "language_info": {
      "codemirror_mode": {
        "name": "ipython",
        "version": 3
      },
      "file_extension": ".py",
      "mimetype": "text/x-python",
      "name": "python",
      "nbconvert_exporter": "python",
      "pygments_lexer": "ipython3",
      "version": "3.12.3"
    }
  },
  "nbformat": 4,
  "nbformat_minor": 5
}